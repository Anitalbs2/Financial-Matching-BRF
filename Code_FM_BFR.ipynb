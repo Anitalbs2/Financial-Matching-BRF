{
  "nbformat": 4,
  "nbformat_minor": 0,
  "metadata": {
    "colab": {
      "provenance": [],
      "authorship_tag": "ABX9TyOOHWIpCPU0rZ45YZwr6Bt0",
      "include_colab_link": true
    },
    "kernelspec": {
      "name": "python3",
      "display_name": "Python 3"
    },
    "language_info": {
      "name": "python"
    }
  },
  "cells": [
    {
      "cell_type": "markdown",
      "metadata": {
        "id": "view-in-github",
        "colab_type": "text"
      },
      "source": [
        "<a href=\"https://colab.research.google.com/github/Anitalbs2/Financial-Matching-BRF/blob/main/Code_FM_BFR.ipynb\" target=\"_parent\"><img src=\"https://colab.research.google.com/assets/colab-badge.svg\" alt=\"Open In Colab\"/></a>"
      ]
    },
    {
      "cell_type": "code",
      "execution_count": null,
      "metadata": {
        "id": "6fJi1jSDEziC"
      },
      "outputs": [],
      "source": [
        "import pandas as pd\n",
        "from sklearn.metrics.pairwise import cosine_similarity\n",
        "from sklearn.preprocessing import StandardScaler\n",
        "import matplotlib.pyplot as plt\n",
        "import seaborn as sns\n",
        "import os\n",
        "from sklearn.cluster import KMeans\n",
        "from sklearn.impute import SimpleImputer\n",
        "import numpy as np\n"
      ]
    },
    {
      "cell_type": "code",
      "source": [],
      "metadata": {
        "id": "IBF8cYBuinhT"
      },
      "execution_count": null,
      "outputs": []
    },
    {
      "cell_type": "code",
      "source": [],
      "metadata": {
        "id": "ZpIkmJyojPfr"
      },
      "execution_count": null,
      "outputs": []
    },
    {
      "cell_type": "markdown",
      "source": [
        "Data Cleaning\n",
        "\n",
        "To ensure reliability and consistency, the dataset was preprocessed by replacing missing values and removing duplicates to maintain uniqueness and prevent bias."
      ],
      "metadata": {
        "id": "GEHQA5w1jRWn"
      }
    },
    {
      "cell_type": "code",
      "source": [
        "# Removing duplicates\n",
        "data.drop_duplicates(inplace=True)\n",
        "\n",
        "# Handling missing values - assuming missing data can be replaced with the median or mode as appropriate\n",
        "data.fillna({\n",
        "    'totalIncome': data['totalIncome'].median(),\n",
        "    'totalOutgoing': data['totalOutgoing'].median(),\n",
        "    'net_savings': data['net_savings'].median(),\n",
        "    'weekly_spend_food': data['weekly_spend_food'].median(),\n",
        "    # Add other columns as necessary\n",
        "}, inplace=True)\n",
        "\n",
        "# Ensure no negative values in financial columns\n",
        "financial_columns = ['totalIncome', 'totalOutgoing', 'net_savings', 'weekly_spend_food', 'monthly_spend_food']\n",
        "for col in financial_columns:\n",
        "    data[col] = data[col].clip(lower=0)"
      ],
      "metadata": {
        "id": "bK2rAf--nPfm"
      },
      "execution_count": null,
      "outputs": []
    },
    {
      "cell_type": "code",
      "source": [
        "# Rename 'anonymised_user_id' to sequential 'User_N'\n",
        "user_ids = ['User_' + str(i+1) for i in range(len(data))]\n",
        "data['anonymised_user_id'] = user_ids\n",
        "\n",
        "# Rename 'anonymised_user_id' to sequential 'User_N'\n",
        "user_ids = ['User_' + str(i+1) for i in range(len(data))]\n",
        "data['anonymised_user_id'] = user_ids\n",
        "\n",
        "# Replace NaN values with \"Not Answer\"\n",
        "data.fillna(\"Not Answer\", inplace=True)"
      ],
      "metadata": {
        "id": "ZrX8nQTvnVjB"
      },
      "execution_count": null,
      "outputs": []
    },
    {
      "cell_type": "code",
      "source": [],
      "metadata": {
        "id": "Yg9jdmqUnkUt"
      },
      "execution_count": null,
      "outputs": []
    },
    {
      "cell_type": "markdown",
      "source": [
        "Financial Ratio\n",
        "\n",
        "Financial Metric Calculation:\n",
        "•\tSavings Ratio: net savings / total Income\n",
        "•\tSpending Ratio: tota lOutgoing / total Income\n",
        "•\tDebt-to-Income Ratio: debt payments / total Income\n",
        "\n"
      ],
      "metadata": {
        "id": "gVpirlsznmcS"
      }
    },
    {
      "cell_type": "code",
      "source": [
        "def calculate_financial_ratios(data):\n",
        "    columns_to_convert = ['totalIncome', 'totalOutgoing', 'net_savings', 'weekly_spend_food', 'monthly_spend_food']\n",
        "    for col in columns_to_convert:\n",
        "        data[col] = pd.to_numeric(data[col], errors='coerce').fillna(0)\n",
        "\n",
        "    # Savings Ratio\n",
        "    data['savings_ratio'] = data['net_savings'] / data['totalIncome']\n",
        "    data['savings_ratio'].replace([np.inf, -np.inf], 0, inplace=True)  # Replace infinity with 0\n",
        "\n",
        "    # Spending Ratio\n",
        "    data['spending_ratio'] = data['totalOutgoing'] / data['totalIncome']\n",
        "    data['spending_ratio'].replace([np.inf, -np.inf], 0, inplace=True)\n",
        "\n",
        "    # Debt-to-Income Ratio\n",
        "    data['debt_to_income_ratio'] = data['totalOutgoing'] / data['totalIncome']\n",
        "    data['debt_to_income_ratio'].replace([np.inf, -np.inf], 0, inplace=True)\n",
        "\n",
        "    # Weekly Spend to Income Ratio\n",
        "    data['weekly_spend_income_ratio'] = data['weekly_spend_food'] / data['totalIncome']\n",
        "    data['weekly_spend_income_ratio'].replace([np.inf, -np.inf], 0, inplace=True)\n",
        "\n",
        "    # Monthly Spend to Income Ratio\n",
        "    data['monthly_spend_income_ratio'] = data['monthly_spend_food'] / data['totalIncome']\n",
        "    data['monthly_spend_income_ratio'].replace([np.inf, -np.inf], 0, inplace=True)\n",
        "\n",
        "    # Fill NaN with 0 after calculations\n",
        "    data.fillna(0, inplace=True)"
      ],
      "metadata": {
        "id": "tns6kHsknzD5"
      },
      "execution_count": null,
      "outputs": []
    },
    {
      "cell_type": "code",
      "source": [],
      "metadata": {
        "id": "CZnYCrewn84W"
      },
      "execution_count": null,
      "outputs": []
    },
    {
      "cell_type": "markdown",
      "source": [
        "User Segmentation\n",
        "\n",
        "1. User segmentation function based on financial ratios, categorizing users into different groups for savings, spending, and debt-to-income ratios."
      ],
      "metadata": {
        "id": "RmM4Rk0YqFiL"
      }
    },
    {
      "cell_type": "code",
      "source": [
        "# User Segmentation Based on Financial Ratios\n",
        "def segment_users(data):\n",
        "    # Segment Users Based on Savings Ratio\n",
        "    data['Savings Segment'] = pd.cut(\n",
        "        data['savings_ratio'],\n",
        "        bins=[-np.inf, 0.1, 0.3, 0.5, np.inf],\n",
        "        labels=['Very Low Saver', 'Low Saver', 'Moderate Saver', 'High Saver']\n",
        "    )\n",
        "\n",
        "    # Segment Users Based on Spending Ratio\n",
        "    data['Spending Segment'] = pd.cut(\n",
        "        data['spending_ratio'],\n",
        "        bins=[-np.inf, 0.3, 0.6, 0.8, np.inf],\n",
        "        labels=['Controlled Spender', 'Moderate Spender', 'High Spender', 'Over Spender']\n",
        "    )\n",
        "\n",
        "    # Segment Users Based on Debt-to-Income Ratio\n",
        "    data['Debt Segment'] = pd.cut(\n",
        "        data['debt_to_income_ratio'],\n",
        "        bins=[-np.inf, 0.3, 0.5, 0.7, np.inf],\n",
        "        labels=['Low Debt', 'Moderate Debt', 'High Debt', 'Very High Debt']"
      ],
      "metadata": {
        "id": "9TGYm7X1qG6H"
      },
      "execution_count": null,
      "outputs": []
    },
    {
      "cell_type": "markdown",
      "source": [
        "2. Visualization of user segments based on savings, spending, and debt-to-income ratios using bar charts to display the distribution of each financial category."
      ],
      "metadata": {
        "id": "cX1FvfvhrHDs"
      }
    },
    {
      "cell_type": "code",
      "source": [
        "# Plot User Segments\n",
        "def plot_user_segments(data):\n",
        "    plt.figure(figsize=(14, 7))\n",
        "\n",
        "    # Savings Segment Distribution\n",
        "    plt.subplot(131)\n",
        "    sns.countplot(x='Savings Segment', data=data, palette='Blues')\n",
        "    plt.title('Savings Segment Distribution')\n",
        "    plt.xlabel('Savings Segment')\n",
        "    plt.ylabel('Count')\n",
        "\n",
        "    # Spending Segment Distribution\n",
        "    plt.subplot(132)\n",
        "    sns.countplot(x='Spending Segment', data=data, palette='Greens')\n",
        "    plt.title('Spending Segment Distribution')\n",
        "    plt.xlabel('Spending Segment')\n",
        "    plt.ylabel('Count')\n",
        "\n",
        "    # Debt Segment Distribution\n",
        "    plt.subplot(133)\n",
        "    sns.countplot(x='Debt Segment', data=data, palette='Reds')\n",
        "    plt.title('Debt Segment Distribution')\n",
        "    plt.xlabel('Debt Segment')\n",
        "    plt.ylabel('Count')\n",
        "\n",
        "    plt.tight_layout()\n",
        "    plt.show()\n"
      ],
      "metadata": {
        "id": "MW-G7lezrcn6"
      },
      "execution_count": null,
      "outputs": []
    },
    {
      "cell_type": "code",
      "source": [],
      "metadata": {
        "id": "B6u1EiV0rem5"
      },
      "execution_count": null,
      "outputs": []
    },
    {
      "cell_type": "markdown",
      "source": [
        "3. Generating personalized financial recommendations based on user segmentation in savings, spending, and debt categories, illustrating how to apply specific advice based on each user's financial behavior."
      ],
      "metadata": {
        "id": "hGW-l_Jdrluo"
      }
    },
    {
      "cell_type": "code",
      "source": [
        "# Generate Recommendations Based on User Segments\n",
        "def generate_segmented_recommendations(user):\n",
        "    recommendations = []\n",
        "\n",
        "    # Savings Segment Recommendations\n",
        "    if user['Savings Segment'] == 'Very Low Saver':\n",
        "        recommendations.append('Consider saving at least 5% of your income each month.')\n",
        "    elif user['Savings Segment'] == 'Low Saver':\n",
        "        recommendations.append('Try increasing your savings gradually.')\n",
        "\n",
        "    # Spending Segment Recommendations\n",
        "    if user['Spending Segment'] == 'Over Spender':\n",
        "        recommendations.append('Reduce unnecessary expenses to maintain financial stability.')\n",
        "    elif user['Spending Segment'] == 'High Spender':\n",
        "        recommendations.append('Monitor your monthly spending more closely.')\n",
        "\n",
        "    # Debt Segment Recommendations\n",
        "    if user['Debt Segment'] == 'High Debt':\n",
        "        recommendations.append('Prioritize paying off your debts to reduce financial burden.')\n",
        "    elif user['Debt Segment'] == 'Very High Debt':\n",
        "        recommendations.append('Seek financial advice to manage your debt efficiently.')\n",
        "\n",
        "    return recommendations\n",
        "\n",
        "# User Segmentation (Ensure this is called before generating recommendations)\n",
        "data = segment_users(data)\n",
        "\n"
      ],
      "metadata": {
        "id": "IfVqldb1rnMG"
      },
      "execution_count": null,
      "outputs": []
    },
    {
      "cell_type": "code",
      "source": [],
      "metadata": {
        "id": "J-IVkNKzrpPR"
      },
      "execution_count": null,
      "outputs": []
    },
    {
      "cell_type": "markdown",
      "source": [
        "Matching System\n",
        "\n",
        "Design of a matching system that pairs users based on financial habits and needs, facilitating targeted advice and support for improved financial wellness"
      ],
      "metadata": {
        "id": "DMSkyZnDrr6v"
      }
    },
    {
      "cell_type": "code",
      "source": [
        " Generate Recommendations for All Users\n",
        "def generate_recommendations_for_all(data):\n",
        "    recommendations_list = []\n",
        "\n",
        "    for _, user in data.iterrows():\n",
        "        recommendations = []\n",
        "\n",
        "        # Savings Ratio Recommendation\n",
        "        if user['savings_ratio'] < 0.1:\n",
        "            recommendations.append('Increase your savings to at least 10% of your income.')\n",
        "        else:\n",
        "            recommendations.append('Continue good savings habits.')\n",
        "\n",
        "        # Spending Ratio Recommendation\n",
        "        if user['spending_ratio'] > 0.6:\n",
        "            recommendations.append('Reduce unnecessary spending to stay within 60% of your income.')\n",
        "        else:\n",
        "            recommendations.append('Your spending habits are well-controlled.')\n",
        "\n",
        "        # Debt Ratio Recommendation\n",
        "        if user['debt_to_income_ratio'] > 0.2:\n",
        "            recommendations.append('Prioritize paying off debt to keep it below 20% of your income.')\n",
        "        else:\n",
        "            recommendations.append('You have good debt management skills.')\n",
        "\n",
        "        recommendations_list.append({\n",
        "            'User ID': user.get('anonymised_user_id', user.name),\n",
        "            'Savings Ratio': user['savings_ratio'],\n",
        "            'Spending Ratio': user['spending_ratio'],\n",
        "            'Debt-to-Income Ratio': user['debt_to_income_ratio'],\n",
        "            'Financial Health': 'Moderate' if user['debt_to_income_ratio'] > 0.2 else 'Good',\n",
        "            'User Segment': 'Struggling' if user['savings_ratio'] < 0.1 or user['spending_ratio'] > 0.6 else 'Secure',\n",
        "            'Recommendations': '; '.join(recommendations)\n",
        "        })\n",
        "\n",
        "    recommendations_df = pd.DataFrame(recommendations_list)\n",
        "    return recommendations_df\n"
      ],
      "metadata": {
        "id": "wtBG892hr2kB"
      },
      "execution_count": null,
      "outputs": []
    },
    {
      "cell_type": "code",
      "source": [
        "# Display Recommendations Table\n",
        "def display_recommendations_table(data):\n",
        "    recommendations_df = generate_recommendations_for_all(data)\n",
        "\n",
        "    # Display the table in a user-friendly format\n",
        "    print(\"Financial Recommendations Table:**\")\n",
        "    pd.set_option('display.max_columns', None)  # Show all columns\n",
        "    pd.set_option('display.expand_frame_repr', False)  # Prevent line breaks\n",
        "    print(recommendations_df.head(10))  # Display the first 10 rows"
      ],
      "metadata": {
        "id": "0JWhhnZQr5O1"
      },
      "execution_count": null,
      "outputs": []
    }
  ]
}